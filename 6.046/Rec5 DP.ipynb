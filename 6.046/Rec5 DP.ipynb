{
 "cells": [
  {
   "cell_type": "markdown",
   "metadata": {},
   "source": [
    "## Rectangle block"
   ]
  },
  {
   "cell_type": "code",
   "execution_count": 1,
   "metadata": {},
   "outputs": [
    {
     "data": {
      "text/plain": [
       "12"
      ]
     },
     "execution_count": 1,
     "metadata": {},
     "output_type": "execute_result"
    }
   ],
   "source": [
    "L = [[1,2,3], [2,3,4],[3,5,5], [1,4,8]]\n",
    "\n",
    "\n",
    "def RB(L):\n",
    "    if len(L) == 0:\n",
    "        return 0\n",
    "    # find remining valid blocks\n",
    "    picked = L[0]\n",
    "    L_valid = [i for i in L[1:] if i[0] >= picked[0] and i[1] >= picked[1]]\n",
    "    return max(RB(L_valid) + picked[2], RB(L[1:]))\n",
    "\n",
    "RB(L)        \n",
    "        "
   ]
  },
  {
   "cell_type": "code",
   "execution_count": null,
   "metadata": {},
   "outputs": [],
   "source": []
  }
 ],
 "metadata": {
  "kernelspec": {
   "display_name": "Python 3",
   "language": "python",
   "name": "python3"
  },
  "language_info": {
   "codemirror_mode": {
    "name": "ipython",
    "version": 3
   },
   "file_extension": ".py",
   "mimetype": "text/x-python",
   "name": "python",
   "nbconvert_exporter": "python",
   "pygments_lexer": "ipython3",
   "version": "3.7.1"
  }
 },
 "nbformat": 4,
 "nbformat_minor": 2
}
