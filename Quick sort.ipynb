{
 "cells": [
  {
   "cell_type": "code",
   "execution_count": 4,
   "metadata": {},
   "outputs": [],
   "source": [
    "def basic_q_sort(A, start, end):\n",
    "    \"\"\"Choose end ellement as dividing point, then apply \n",
    "    divide & conquer to sort Array in place.\n",
    "        Notice the worst running time is O(n^2)\n",
    "    Args:\n",
    "        A (list) : array to be sorted\n",
    "        start (int) : index of first element in A\n",
    "        end (int) : index of final element in A\n",
    "    Return:\n",
    "        A (a list sorted)\n",
    "    \"\"\"\n",
    "    # base case\n",
    "    if start == end or start > end:\n",
    "        return \n",
    "    \n",
    "    divid = partition(A, start, end)\n",
    "    basic_q_sort(A, start, divid-1)\n",
    "    basic_q_sort(A, divid+1, end)\n",
    "    return\n",
    "    \n",
    "    "
   ]
  },
  {
   "cell_type": "code",
   "execution_count": 1,
   "metadata": {},
   "outputs": [],
   "source": [
    "def partition(A, start, end):\n",
    "    \"\"\"Inplace partition of A using end point\n",
    "    \"\"\"\n",
    "    i = start - 1 # mark for left sub array\n",
    "    for j in range(start, end):\n",
    "        if A[j] < A[end]:\n",
    "            i = i + 1\n",
    "            A[i], A[j] = A[j], A[i] # change A[j] to left sub array\n",
    "    A[i+1], A[end] = A[end], A[i+1] # swap A[end] to the middle \n",
    "    return i+1    \n",
    "    "
   ]
  },
  {
   "cell_type": "code",
   "execution_count": 5,
   "metadata": {},
   "outputs": [
    {
     "data": {
      "text/plain": [
       "2"
      ]
     },
     "execution_count": 5,
     "metadata": {},
     "output_type": "execute_result"
    }
   ],
   "source": [
    "A = [5,7,1,6]\n",
    "start = 0\n",
    "end = 3\n",
    "partition(A, start, end)"
   ]
  },
  {
   "cell_type": "code",
   "execution_count": 6,
   "metadata": {},
   "outputs": [
    {
     "data": {
      "text/plain": [
       "[2, 5, 6, 8]"
      ]
     },
     "execution_count": 6,
     "metadata": {},
     "output_type": "execute_result"
    }
   ],
   "source": [
    "A = [5,2,8,6]\n",
    "\n",
    "basic_q_sort(A, 0, len(A)-1)\n",
    "A"
   ]
  },
  {
   "cell_type": "markdown",
   "metadata": {},
   "source": [
    "## Practice "
   ]
  }
 ],
 "metadata": {
  "kernelspec": {
   "display_name": "Python 3",
   "language": "python",
   "name": "python3"
  },
  "language_info": {
   "codemirror_mode": {
    "name": "ipython",
    "version": 3
   },
   "file_extension": ".py",
   "mimetype": "text/x-python",
   "name": "python",
   "nbconvert_exporter": "python",
   "pygments_lexer": "ipython3",
   "version": "3.7.1"
  }
 },
 "nbformat": 4,
 "nbformat_minor": 2
}
