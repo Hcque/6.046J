{
 "cells": [
  {
   "cell_type": "markdown",
   "metadata": {},
   "source": [
    "##  lec 10 : DP"
   ]
  },
  {
   "cell_type": "markdown",
   "metadata": {},
   "source": [
    "#### 1. longest palindronic sequence"
   ]
  },
  {
   "cell_type": "code",
   "execution_count": 8,
   "metadata": {},
   "outputs": [
    {
     "data": {
      "text/plain": [
       "5"
      ]
     },
     "execution_count": 8,
     "metadata": {},
     "output_type": "execute_result"
    }
   ],
   "source": [
    "def L_help(i, j, ch):\n",
    "    if i == j:\n",
    "        return 1\n",
    "    if i + 1 == j:\n",
    "        if ch[i] == ch[j]:\n",
    "            return 2\n",
    "    if ch[i] == ch[j]:\n",
    "        return L_help(i+1, j-1, ch) + 2\n",
    "    return max(L_help(i+1, j, ch), L_help(i, j-1, ch))\n",
    "\n",
    "def L(ch):\n",
    "    return L_help(0, len(ch)-1, ch)\n",
    "\n",
    "ch = \"character\"\n",
    "L(ch)    "
   ]
  },
  {
   "cell_type": "code",
   "execution_count": 7,
   "metadata": {},
   "outputs": [],
   "source": [
    "# def L_help(i, j, ch, mem):\n",
    "#     if i == j:\n",
    "#         mem.append(i)\n",
    "#         return 1\n",
    "#     if i + 1 == j:\n",
    "#         if ch[i] == ch[j]:\n",
    "#             mem.append(i)\n",
    "#             mem.append(j)\n",
    "#             return 2\n",
    "#     if ch[i] == ch[j]:\n",
    "#         mem.append(i)\n",
    "#         mem.append(j)\n",
    "#         return L_help(i+1, j-1, ch, mem) + 2\n",
    "#     length1 = L_help(i+1, j, ch, mem)\n",
    "#     length2 = L_help(i, j-1, ch, mem)\n",
    "#     if length1 > length2:\n",
    "#         mem.append(i)\n",
    "#     else:\n",
    "#         mem.append(j)\n",
    "#     return max(length1, length2)\n",
    "\n",
    "# def L(ch):\n",
    "#     mem = []\n",
    "#     length =  L_help(0, len(ch)-1, ch, mem)\n",
    "#     return mem\n",
    "\n",
    "# ch = \"character\"\n",
    "# L(ch)    "
   ]
  },
  {
   "cell_type": "markdown",
   "metadata": {},
   "source": [
    "#### test case"
   ]
  },
  {
   "cell_type": "code",
   "execution_count": 12,
   "metadata": {},
   "outputs": [
    {
     "data": {
      "text/plain": [
       "(1, 1, 3, 3)"
      ]
     },
     "execution_count": 12,
     "metadata": {},
     "output_type": "execute_result"
    }
   ],
   "source": [
    "L(\"c\"), L(\"ch\"), L(\"chc\"), L(\"chdc\")"
   ]
  },
  {
   "cell_type": "markdown",
   "metadata": {},
   "source": [
    "## Alternating coin Game"
   ]
  },
  {
   "cell_type": "code",
   "execution_count": 1,
   "metadata": {},
   "outputs": [
    {
     "data": {
      "text/plain": [
       "85"
      ]
     },
     "execution_count": 1,
     "metadata": {},
     "output_type": "execute_result"
    }
   ],
   "source": [
    "def V_help(i, j, arr):\n",
    "    if i == j:\n",
    "        return arr[i]\n",
    "    if i + 1 == j:\n",
    "        return max(arr)\n",
    "    \n",
    "    # recursive step\n",
    "    # me choose i, two possiable cases for opponent\n",
    "    min_1 = min(V_help(i+1, j-1, arr), V_help(i+2, j, arr))\n",
    "    min_2 = min(V_help(i+1, j-1, arr), V_help(i, j-2, arr))\n",
    "    \n",
    "    return max(min_1 + arr[i], min_2 + arr[j])\n",
    "\n",
    "def V(arr):\n",
    "    return V_help(0, len(arr)-1, arr)\n",
    "\n",
    "arr = [4, 42, 39, 17, 25]\n",
    "V(arr)\n",
    "    \n"
   ]
  },
  {
   "cell_type": "code",
   "execution_count": null,
   "metadata": {},
   "outputs": [],
   "source": []
  }
 ],
 "metadata": {
  "kernelspec": {
   "display_name": "Python 3",
   "language": "python",
   "name": "python3"
  },
  "language_info": {
   "codemirror_mode": {
    "name": "ipython",
    "version": 3
   },
   "file_extension": ".py",
   "mimetype": "text/x-python",
   "name": "python",
   "nbconvert_exporter": "python",
   "pygments_lexer": "ipython3",
   "version": "3.7.1"
  }
 },
 "nbformat": 4,
 "nbformat_minor": 2
}
