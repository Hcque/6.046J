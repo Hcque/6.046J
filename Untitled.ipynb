{
 "cells": [
  {
   "cell_type": "markdown",
   "metadata": {},
   "source": [
    "698. Partition to K Equal Sum Subsets\n",
    "\n",
    "https://leetcode-cn.com/problems/partition-to-k-equal-sum-subsets/"
   ]
  },
  {
   "cell_type": "code",
   "execution_count": 3,
   "metadata": {},
   "outputs": [
    {
     "name": "stdout",
     "output_type": "stream",
     "text": [
      "[2, 3, 4] 3\n",
      "[3, 4] 1\n",
      "[4] 1\n",
      "[] 1\n"
     ]
    },
    {
     "data": {
      "text/plain": [
       "[]"
      ]
     },
     "execution_count": 3,
     "metadata": {},
     "output_type": "execute_result"
    }
   ],
   "source": [
    "def possiable_sets(L, sum):\n",
    "    print(L, sum)\n",
    "    # base case\n",
    "    if len(L) == 0:\n",
    "        return []\n",
    "    # rec\n",
    "    first = L[0]\n",
    "    rest = L[1:]\n",
    "    if first == sum:\n",
    "        return [first]\n",
    "    if first > sum:\n",
    "        return possiable_sets(rest, sum)\n",
    "    if first < sum:\n",
    "        matched = possiable_sets(rest, sum-first)\n",
    "        \n",
    "        if len(matched) != 0:\n",
    "            return [first] + matched\n",
    "        else:\n",
    "            return []\n",
    "    \n",
    "possiable_sets([2,3,4], 3)"
   ]
  },
  {
   "cell_type": "code",
   "execution_count": null,
   "metadata": {},
   "outputs": [],
   "source": [
    " def canPartitionKSubsets(nums, k):\n",
    "    if k == 0 and len(nums) >= 0:\n",
    "        return True\n",
    "    if k > 0 and len(nums) == 0:\n",
    "        return False\n",
    "    possiable_sets = get_poss_sets()\n",
    "    ans = False\n",
    "    for L in possiable_sets:\n",
    "        if canPartitionKSubsets(L, k-1):\n",
    "            return True\n",
    "    return False\n",
    "\n",
    "        "
   ]
  },
  {
   "cell_type": "code",
   "execution_count": null,
   "metadata": {},
   "outputs": [],
   "source": []
  },
  {
   "cell_type": "code",
   "execution_count": null,
   "metadata": {},
   "outputs": [],
   "source": []
  },
  {
   "cell_type": "code",
   "execution_count": null,
   "metadata": {},
   "outputs": [],
   "source": []
  },
  {
   "cell_type": "code",
   "execution_count": null,
   "metadata": {},
   "outputs": [],
   "source": []
  }
 ],
 "metadata": {
  "kernelspec": {
   "display_name": "Python 3",
   "language": "python",
   "name": "python3"
  },
  "language_info": {
   "codemirror_mode": {
    "name": "ipython",
    "version": 3
   },
   "file_extension": ".py",
   "mimetype": "text/x-python",
   "name": "python",
   "nbconvert_exporter": "python",
   "pygments_lexer": "ipython3",
   "version": "3.7.1"
  }
 },
 "nbformat": 4,
 "nbformat_minor": 2
}
